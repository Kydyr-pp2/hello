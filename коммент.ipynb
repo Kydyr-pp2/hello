{
 "cells": [
  {
   "cell_type": "code",
   "execution_count": null,
   "metadata": {},
   "outputs": [
    {
     "name": "stdout",
     "output_type": "stream",
     "text": [
      "['.', '.']\n"
     ]
    }
   ],
   "source": [
    "import re\n",
    "\n",
    "text = \"file.txt image.jpg\"\n",
    "pattern = r\"\\.\"\n",
    "matches = re.findall(pattern, text)\n",
    "print(matches)\n",
    "# This code searches for all occurrences of the period ('.') character in the string \"file.txt image.jpg\" and outputs them.\n"
   ]
  },
  {
   "cell_type": "code",
   "execution_count": null,
   "metadata": {},
   "outputs": [
    {
     "name": "stdout",
     "output_type": "stream",
     "text": [
      "Hello\n"
     ]
    }
   ],
   "source": [
    "text=\"Hello,World!\"\n",
    "pattern=\"Hello\"\n",
    "match=re.match(pattern,text)\n",
    "print(match.group(0) if match else \"No match\")\n",
    "# This code checks if the string \"Hello, World!\" starts with \"Hello\" using a regular expression and prints the match if found.\n"
   ]
  },
  {
   "cell_type": "code",
   "execution_count": null,
   "metadata": {},
   "outputs": [
    {
     "name": "stdout",
     "output_type": "stream",
     "text": [
      "abc\n"
     ]
    }
   ],
   "source": [
    "text = \"abc abcdef\"\n",
    "pattern = r\"abc|\"\n",
    "match = re.match(pattern, text)\n",
    "print(match.group() if match else \"No match\")\n",
    "# This code uses re.match with the pattern \"abc|\" to check if the string \"abc abcdef\" starts with \"abc\" (or matches an empty alternative) and prints the match.\n"
   ]
  },
  {
   "cell_type": "code",
   "execution_count": null,
   "metadata": {},
   "outputs": [
    {
     "name": "stdout",
     "output_type": "stream",
     "text": [
      "['abc', 'def', 'abc', 'abc', 'def']\n"
     ]
    }
   ],
   "source": [
    "text = \"abc def abc abcdef\"\n",
    "pattern = r\"abc|abcdef|def|abcdef\"\n",
    "matches = re.findall(pattern, text)\n",
    "print(matches)\n",
    "# This code finds all substrings in the text that match any of the alternatives ('abc', 'abcdef', 'def') using re.findall and prints the resulting list.\n"
   ]
  },
  {
   "cell_type": "code",
   "execution_count": null,
   "metadata": {},
   "outputs": [
    {
     "name": "stdout",
     "output_type": "stream",
     "text": [
      ".\n"
     ]
    }
   ],
   "source": [
    "text = \"file.txt\"\n",
    "pattern = r\"\\.\"\n",
    "match = re.search(pattern, text)\n",
    "print(match.group(0) if match else \"No match\")\n",
    "# This code searches for the first occurrence of the literal dot ('.') in the string \"file.txt\" and prints it if found.\n"
   ]
  },
  {
   "cell_type": "code",
   "execution_count": null,
   "metadata": {},
   "outputs": [
    {
     "name": "stdout",
     "output_type": "stream",
     "text": [
      "['abc', 'abc']\n"
     ]
    }
   ],
   "source": [
    "text = \"abcabc abchello abdcc\"\n",
    "pattern = r\"(abc)+\"\n",
    "matches = re.findall(pattern, text)\n",
    "print(matches)\n",
    "# This code finds all matches of one or more consecutive \"abc\" sequences in the text and prints a list of those matches.\n"
   ]
  },
  {
   "cell_type": "code",
   "execution_count": null,
   "metadata": {},
   "outputs": [
    {
     "name": "stdout",
     "output_type": "stream",
     "text": [
      "abcabcabcabc\n"
     ]
    }
   ],
   "source": [
    "text = \"abcabcabcabc abc\"\n",
    "pattern = r\"(abc)+\"\n",
    "match = re.match(pattern, text)\n",
    "print(match.group() if match else \"No match\")\n",
    "# This code checks if the string begins with one or more consecutive \"abc\" sequences and prints the matched part if found.\n"
   ]
  },
  {
   "cell_type": "code",
   "execution_count": null,
   "metadata": {},
   "outputs": [
    {
     "name": "stdout",
     "output_type": "stream",
     "text": [
      "ab\n"
     ]
    }
   ],
   "source": [
    "text = \"abdca\"\n",
    "pattern = r\"abc?\"\n",
    "match = re.match(pattern, text)\n",
    "print(match.group() if match else \"No match\")\n",
    "# This code checks if the string \"abdca\" starts with \"ab\", where \"c\" is optional, and prints the match (\"ab\" in this case) if a match is found.\n"
   ]
  },
  {
   "cell_type": "code",
   "execution_count": null,
   "metadata": {},
   "outputs": [
    {
     "name": "stdout",
     "output_type": "stream",
     "text": [
      "['abcdf']\n"
     ]
    }
   ],
   "source": [
    "text = \"abcdfadcsadcs abcds a abcc abgfda\"\n",
    "pattern = r\"abcdf+\"\n",
    "matches = re.findall(pattern, text)\n",
    "print(matches)\n",
    "# This code searches for substrings in the text that begin with \"abc\" and are followed by one or more \"f\" characters, then prints those matches.\n"
   ]
  },
  {
   "cell_type": "code",
   "execution_count": null,
   "metadata": {},
   "outputs": [
    {
     "name": "stdout",
     "output_type": "stream",
     "text": [
      "['abcc', 'ab']\n"
     ]
    }
   ],
   "source": [
    "text = \"abcc ab ac a bc\"\n",
    "pattern = r\"abc*\"\n",
    "matches = re.findall(pattern, text)\n",
    "print(matches)\n",
    "# This code finds all substrings in the text that start with \"ab\" and are optionally followed by one or more \"c\"s, then prints them as a list.\n"
   ]
  },
  {
   "cell_type": "code",
   "execution_count": null,
   "metadata": {},
   "outputs": [
    {
     "name": "stdout",
     "output_type": "stream",
     "text": [
      "abcc\n"
     ]
    }
   ],
   "source": [
    "\n",
    "text = \"abcc abccc\"\n",
    "pattern = r\"abc*\"\n",
    "match = re.match(pattern, text)\n",
    "print(match.group() if match else \"No match\")\n",
    "# This code checks if the string \"abcc abccc\" starts with \"ab\" followed by zero or more \"c\"s, and prints the matched substring if found.\n"
   ]
  },
  {
   "cell_type": "code",
   "execution_count": null,
   "metadata": {},
   "outputs": [
    {
     "name": "stdout",
     "output_type": "stream",
     "text": [
      "No match\n",
      "abc\n"
     ]
    }
   ],
   "source": [
    "text_1 = \"ac abcc ac abc\"\n",
    "text_2 = \"abc ac abc\"\n",
    "pattern = r\"abc+\"\n",
    "match = re.match(pattern, text_1)\n",
    "match_2 = re.match(pattern, text_2)\n",
    "print(match.group() if match else \"No match\")\n",
    "print(match_2.group() if match_2 else \"No match_2\")\n",
    "# This code uses re.match to find a substring that starts with \"ab\" followed by one or more \"c\"s at the beginning of two different texts and prints the corresponding match for each.\n"
   ]
  },
  {
   "cell_type": "code",
   "execution_count": null,
   "metadata": {},
   "outputs": [
    {
     "name": "stdout",
     "output_type": "stream",
     "text": [
      "abc\n"
     ]
    }
   ],
   "source": [
    "text = \"xyzabc\"\n",
    "pattern = r\"abc$\"\n",
    "match = re.search(pattern, text)\n",
    "print(match.group() if match else \"No match\")\n",
    "# This code checks if the string \"xyzabc\" ends with \"abc\" using a regular expression and prints the match if found.\n"
   ]
  },
  {
   "cell_type": "code",
   "execution_count": null,
   "metadata": {},
   "outputs": [
    {
     "name": "stdout",
     "output_type": "stream",
     "text": [
      "abc\n"
     ]
    }
   ],
   "source": [
    "text = \"abcdef\"\n",
    "pattern = r\"^abc\"\n",
    "match = re.match(pattern, text)\n",
    "print(match.group() if match else \"No match\")\n",
    "# This code checks if the string \"abcdef\" starts with \"abc\" using a regular expression and prints the matched portion if found.\n"
   ]
  },
  {
   "cell_type": "code",
   "execution_count": null,
   "metadata": {},
   "outputs": [
    {
     "name": "stdout",
     "output_type": "stream",
     "text": [
      "e\n"
     ]
    }
   ],
   "source": [
    "text = \"hello world all item\"\n",
    "pattern = r\"[aioue]\"\n",
    "match = re.search(pattern, text)\n",
    "print(match.group() if match else \"No match\")\n",
    "# This code uses a regular expression to find the first occurrence of any vowel (a, i, o, u, e) in the string \"hello world all item\" and prints it if found.\n"
   ]
  },
  {
   "cell_type": "code",
   "execution_count": null,
   "metadata": {},
   "outputs": [
    {
     "name": "stdout",
     "output_type": "stream",
     "text": [
      "afc\n"
     ]
    }
   ],
   "source": [
    "text = \"afc\"\n",
    "pattern = r\"a.c\"\n",
    "match = re.match(pattern, text)\n",
    "print(match.group() if match else \"No match\")\n",
    "# This code checks if the string \"afc\" matches the pattern \"a.c\" (i.e., 'a' followed by any character and then 'c') and prints the match if found.\n"
   ]
  }
 ],
 "metadata": {
  "kernelspec": {
   "display_name": "Python 3",
   "language": "python",
   "name": "python3"
  },
  "language_info": {
   "codemirror_mode": {
    "name": "ipython",
    "version": 3
   },
   "file_extension": ".py",
   "mimetype": "text/x-python",
   "name": "python",
   "nbconvert_exporter": "python",
   "pygments_lexer": "ipython3",
   "version": "3.13.1"
  }
 },
 "nbformat": 4,
 "nbformat_minor": 2
}
